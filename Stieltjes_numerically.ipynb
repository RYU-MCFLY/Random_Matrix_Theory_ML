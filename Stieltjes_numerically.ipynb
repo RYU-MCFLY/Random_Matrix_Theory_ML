{
  "nbformat": 4,
  "nbformat_minor": 0,
  "metadata": {
    "colab": {
      "name": "Stieltjes_numerically.ipynb",
      "provenance": [],
      "collapsed_sections": [],
      "include_colab_link": true
    },
    "kernelspec": {
      "name": "python3",
      "display_name": "Python 3"
    },
    "language_info": {
      "name": "python"
    }
  },
  "cells": [
    {
      "cell_type": "markdown",
      "metadata": {
        "id": "view-in-github",
        "colab_type": "text"
      },
      "source": [
        "<a href=\"https://colab.research.google.com/github/RYU-MCFLY/back-future/blob/main/Stieltjes_numerically.ipynb\" target=\"_parent\"><img src=\"https://colab.research.google.com/assets/colab-badge.svg\" alt=\"Open In Colab\"/></a>"
      ]
    },
    {
      "cell_type": "markdown",
      "metadata": {
        "id": "UVAE5NBFfoXM"
      },
      "source": [
        "# **Sample covariance matrices with different spectrums of covariance matrix.**\n",
        "\n",
        "Generate some random matrix samples and some random matrix densities.  For the densities, we use fixed point iteration, coming down from +i infinity.\n",
        "\n",
        "We will iterate using the equations (r = $d/n$):\n",
        "\n",
        "\\begin{equation}%\\label{eq:1}\n",
        "(1) \\qquad\\quad m(z) = \\frac{1}{r}\\tilde{m}(z) + \\frac{1 - r}{r z}\n",
        "\\end{equation}\n",
        "\n",
        "and\n",
        "\n",
        "$$ \n",
        "(2) \\qquad\\quad\n",
        "\\tilde{m}(z) = \\left (-z + \\frac{1}{n} \\text{tr}[C(I_d - \\tilde{m}(z) C)^{-1}] \\right )^{-1} = \\biggl(-z + r \\int \\frac{t \\nu(dt)}{1+\\tilde{m}(z)t}\\biggr)^{-1}$$\n",
        "\n",
        "Here $\\nu$ is the empirical law of the covariance $C$.  We will try four cases:   \n",
        "1.   $\\nu = \\delta_1$, that is deterministic and all 1\n",
        "2.   $\\nu = \\tfrac{1}{2}\\delta_5 +  \\tfrac{1}{2}\\delta_1$\n",
        "3.   $\\nu = \\text{Exp}(1)$\n",
        "4.   $\\nu = \\text{Pareto}(4)$\n",
        "\n",
        "The strategy will be to use a fixed point method, where we choose a sequence of imaginary numbers coming from infinity, and then we iteratively apply the reccurence (1) and (2).\n"
      ]
    },
    {
      "cell_type": "markdown",
      "metadata": {
        "id": "fkYwB0NIl6n1"
      },
      "source": [
        "## **Identity covariance picture ($C = Id$)**\n",
        "\n",
        "---\n",
        "\n",
        "*   We generate the matrix and then compute the eigenvalues.\n",
        "*   In this case, we recover the Marchenko-Pastur "
      ]
    },
    {
      "cell_type": "code",
      "metadata": {
        "colab": {
          "base_uri": "https://localhost:8080/",
          "height": 295
        },
        "id": "BQnd35lefgCW",
        "outputId": "fbe02bbe-fc8f-4123-97ae-4e8461cfda60"
      },
      "source": [
        "import numpy as np\n",
        "from matplotlib import pyplot as plt\n",
        "n=1000\n",
        "d=2000\n",
        "r=d/n\n",
        "\n",
        "Wishart = np.random.randn(d,n)\n",
        "Wishart = (Wishart @ Wishart.transpose())/n\n",
        "Weigs = np.real(np.linalg.eig(Wishart)[0]) #just keep the eigenvalues\n",
        "plt.hist(Weigs[Weigs > 0.001],bins=50,density=True)\n",
        "plt.xlabel('Eigenvalues')\n",
        "plt.ylabel('Density')\n",
        "plt.title('Empirical spectral distribution with C = Id')\n",
        "\n",
        "\n",
        "plt.show()\n"
      ],
      "execution_count": null,
      "outputs": [
        {
          "output_type": "display_data",
          "data": {
            "image/png": "[encoded data removed]",
            "text/plain": [
              "<Figure size 432x288 with 1 Axes>"
            ]
          },
          "metadata": {
            "tags": [],
            "needs_background": "light"
          }
        }
      ]
    },
    {
      "cell_type": "markdown",
      "metadata": {
        "id": "hSwGxzYsmAQJ"
      },
      "source": [
        "**Covariance matrix with 1/2 eigenvalues at 1 and 1/2 at 9**\n",
        "---\n",
        "\n",
        "*   $C = \\text{Diag}(1,1,1,1,...,9,9,9,9,...)$\n",
        "*   Two \"Marchenko-Pastur\" distributions\n",
        "\n",
        "\n",
        "\n",
        "\n"
      ]
    },
    {
      "cell_type": "code",
      "metadata": {
        "id": "fGgx7c3RmEmg",
        "colab": {
          "base_uri": "https://localhost:8080/",
          "height": 312
        },
        "outputId": "64f44d93-4a5e-489f-8dbc-7547e83e0582"
      },
      "source": [
        "import numpy as np\n",
        "from matplotlib import pyplot as plt\n",
        "from scipy import linalg \n",
        "\n",
        "n=10000\n",
        "d=1000\n",
        "r=d/n\n",
        "\n",
        "Wishart = np.random.randn(d,n)\n",
        "CMatrix = np.diagflat(np.random.binomial(1,0.5,size=(n,1))*8 + 1)\n",
        "sqrtCMatrix = np.sqrt(np.diagflat(np.random.binomial(1,0.5,size=(d,1))*8 + 1))\n",
        "Wishart = sqrtCMatrix @ Wishart\n",
        "Wishart = (Wishart @ Wishart.transpose())/n\n",
        "Weigs = np.real(np.linalg.eig(Wishart)[0]) #just keep the eigenvalues\n",
        "\n",
        "plt.hist(Weigs[(Weigs > 0.001) & (Weigs < 100)],bins=50,density=True)\n",
        "plt.xlabel('Eigenvalues')\n",
        "plt.ylabel('Density')\n",
        "plt.title('Empirical spectral distribution with C = 1/2 eigenvalues 9 and 1/2 eigenvalues 1')\n",
        "\n",
        "\n",
        "plt.show()\n",
        "print(\"The mean eigenvalue is {:.05f}\".format(np.mean(Weigs[Weigs > 0.001])))"
      ],
      "execution_count": null,
      "outputs": [
        {
          "output_type": "display_data",
          "data": {
            "image/png": "[encoded data removed]",
            "text/plain": [
              "<Figure size 432x288 with 1 Axes>"
            ]
          },
          "metadata": {
            "tags": [],
            "needs_background": "light"
          }
        },
        {
          "output_type": "stream",
          "text": [
            "The mean eigenvalue is 4.96826\n"
          ],
          "name": "stdout"
        }
      ]
    },
    {
      "cell_type": "markdown",
      "metadata": {
        "id": "9iGl3dCq_IeM"
      },
      "source": [
        "## **Covariance with C = diag(Pareto(4))**\n",
        "\n",
        "\n",
        "*   Gives a heavy-tailed distribution for the large eigenvalues\n",
        "\n"
      ]
    },
    {
      "cell_type": "code",
      "metadata": {
        "colab": {
          "base_uri": "https://localhost:8080/",
          "height": 312
        },
        "id": "cyIeZYiq930b",
        "outputId": "e47590b1-3d36-4145-de4f-a9f013642667"
      },
      "source": [
        "import numpy as np\n",
        "from matplotlib import pyplot as plt\n",
        "from scipy import linalg \n",
        "\n",
        "n=1000\n",
        "d=2000\n",
        "r=d/n\n",
        "\n",
        "Wishart = np.random.randn(d,n) #Generates matrix with entries N(0,1)\n",
        "CMatrix = np.diagflat(np.random.pareto(4,size=(d,1))) #Generates the covariance matrix\n",
        "sqrtCMatrix = linalg.sqrtm(CMatrix)\n",
        "Wishart = sqrtCMatrix @ Wishart\n",
        "Wishart = (Wishart @ Wishart.transpose())/n\n",
        "Weigs = np.real(np.linalg.eig(Wishart)[0]) #just keep the eigenvalues\n",
        "\n",
        "plt.hist(Weigs[(Weigs > 0.001) & (Weigs < 100)],bins=50,density=True) #the last argument scales this to be a density\n",
        "plt.xlabel('Eigenvalues')\n",
        "plt.ylabel('Density')\n",
        "plt.title('Empirical spectral distribution with diag(C) = Pareto(4)')\n",
        "\n",
        "plt.show()\n",
        "print(\"The mean eigenvalue is {:.05f}\".format(np.mean(Weigs[Weigs > 0.001])))"
      ],
      "execution_count": null,
      "outputs": [
        {
          "output_type": "display_data",
          "data": {
            "image/png": "[encoded data removed]",
            "text/plain": [
              "<Figure size 432x288 with 1 Axes>"
            ]
          },
          "metadata": {
            "tags": [],
            "needs_background": "light"
          }
        },
        {
          "output_type": "stream",
          "text": [
            "The mean eigenvalue is 0.66786\n"
          ],
          "name": "stdout"
        }
      ]
    },
    {
      "cell_type": "markdown",
      "metadata": {
        "id": "7AVek2_3AiQc"
      },
      "source": [
        "## **Covariance with C = diag(Exp(1))**\n",
        "\n",
        "\n",
        "*   Creates heavy-tailed large eigenvalues\n",
        "\n"
      ]
    },
    {
      "cell_type": "code",
      "metadata": {
        "colab": {
          "base_uri": "https://localhost:8080/",
          "height": 312
        },
        "id": "4Mk82xd__y5E",
        "outputId": "fbc74d3b-7b52-45b1-dd98-d88c3b1753ef"
      },
      "source": [
        "import numpy as np\n",
        "from matplotlib import pyplot as plt\n",
        "from scipy import linalg \n",
        "\n",
        "n=1000\n",
        "d=2000\n",
        "r=d/n\n",
        "\n",
        "Wishart = np.random.randn(d,n) #Generates matrix with entries N(0,1)\n",
        "CMatrix = np.diagflat(np.random.standard_exponential((d,1))) #Generates the covariance matrix\n",
        "sqrtCMatrix = linalg.sqrtm(CMatrix)\n",
        "Wishart = sqrtCMatrix @ Wishart\n",
        "Wishart = (Wishart @ Wishart.transpose())/n\n",
        "Weigs = np.real(np.linalg.eig(Wishart)[0]) #just keep the eigenvalues\n",
        "\n",
        "plt.hist(Weigs[(Weigs > 0.001) & (Weigs < 100)],bins=50,density=True) #the last argument scales this to be a density\n",
        "plt.xlabel('Eigenvalues')\n",
        "plt.ylabel('Density')\n",
        "plt.title('Empirical spectral distribution with diag(C) = Exp(1)')\n",
        "\n",
        "plt.show()\n",
        "print(\"The mean eigenvalue is {:.05f}\".format(np.mean(Weigs[Weigs > 0.001])))"
      ],
      "execution_count": null,
      "outputs": [
        {
          "output_type": "display_data",
          "data": {
            "image/png": "[encoded data removed]",
            "text/plain": [
              "<Figure size 432x288 with 1 Axes>"
            ]
          },
          "metadata": {
            "tags": [],
            "needs_background": "light"
          }
        },
        {
          "output_type": "stream",
          "text": [
            "The mean eigenvalue is 2.04875\n"
          ],
          "name": "stdout"
        }
      ]
    },
    {
      "cell_type": "markdown",
      "metadata": {
        "id": "lcujUPl-Ca-x"
      },
      "source": [
        "## **Covariance with C = diag(lognormal(mean = 1, variance = 1))**"
      ]
    },
    {
      "cell_type": "code",
      "metadata": {
        "colab": {
          "base_uri": "https://localhost:8080/",
          "height": 312
        },
        "id": "uwPn3BvVBFiO",
        "outputId": "e73305ef-5691-4f26-b43b-b03cc251895d"
      },
      "source": [
        "import numpy as np\n",
        "from matplotlib import pyplot as plt\n",
        "from scipy import linalg \n",
        "\n",
        "n=1000\n",
        "d=2000\n",
        "r=d/n\n",
        "\n",
        "Wishart = np.random.randn(d,n) #Generates matrix with entries N(0,1)\n",
        "CMatrix = np.diagflat(np.random.lognormal(size=(d,1), mean = 1)) #Generates the covariance matrix\n",
        "sqrtCMatrix = linalg.sqrtm(CMatrix)\n",
        "Wishart = sqrtCMatrix @ Wishart\n",
        "Wishart = (Wishart @ Wishart.transpose())/n\n",
        "Weigs = np.real(np.linalg.eig(Wishart)[0]) #just keep the eigenvalues\n",
        "\n",
        "plt.hist(Weigs[(Weigs > 0.001) & (Weigs < 50)],bins=50,density=True) #the last argument scales this to be a density\n",
        "plt.xlabel('Eigenvalues')\n",
        "plt.ylabel('Density')\n",
        "plt.title('Empirical spectral distribution with diag(C) = lognormal(1,1)')\n",
        "\n",
        "plt.show()\n",
        "print(\"The mean eigenvalue is {:.05f}\".format(np.mean(Weigs[Weigs > 0.001])))"
      ],
      "execution_count": null,
      "outputs": [
        {
          "output_type": "display_data",
          "data": {
            "image/png": "[encoded data removed]",
            "text/plain": [
              "<Figure size 432x288 with 1 Axes>"
            ]
          },
          "metadata": {
            "tags": [],
            "needs_background": "light"
          }
        },
        {
          "output_type": "stream",
          "text": [
            "The mean eigenvalue is 9.28090\n"
          ],
          "name": "stdout"
        }
      ]
    },
    {
      "cell_type": "markdown",
      "metadata": {
        "id": "tDNgawgPUmou"
      },
      "source": [
        "## **Bulk + Spikes Model**\n",
        "\n",
        "\n",
        "*   Covariance $C$ is Identity + a sum of spikes, $C = Id + \\sum_{i=1}^k \\ell_i u_i u^T_i$ where $\\|u\\|_2 = 1$\n",
        "\n"
      ]
    },
    {
      "cell_type": "code",
      "metadata": {
        "colab": {
          "base_uri": "https://localhost:8080/",
          "height": 312
        },
        "id": "RXEPU0QIUlYI",
        "outputId": "1e0114e2-c187-4f0d-d98e-79304c145848"
      },
      "source": [
        "import numpy as np\n",
        "from matplotlib import pyplot as plt\n",
        "from scipy import linalg \n",
        "\n",
        "n=1000\n",
        "d=2000\n",
        "r=d/n\n",
        "\n",
        "Wishart = np.random.randn(d,n)\n",
        "z1 = np.random.randn(d,1)  \n",
        "u1 = z1 / linalg.norm(z1)\n",
        "\n",
        "z2 = np.random.randn(d,1) \n",
        "u2 = z2 / linalg.norm(z2)\n",
        "\n",
        "z3 = np.random.randn(d,1) \n",
        "u3 = z3 / linalg.norm(z3)\n",
        "\n",
        "z4 = np.random.randn(d,1) \n",
        "u4 = z4 / linalg.norm(z4)\n",
        "\n",
        "z5 = np.random.randn(d,1) \n",
        "u5 = z5 / linalg.norm(z5)\n",
        "\n",
        "CMatrix = np.diagflat(np.ones((d,1))) + 0.2 * u1 @ u1.transpose() + 9 * u2 @ u2.transpose() + 10 * u3 @ u3.transpose() + 15 * u4 @ u4.transpose() + 20 * u5 @ u5.transpose() \n",
        "sqrtCMatrix = linalg.sqrtm(CMatrix)\n",
        "Wishart = sqrtCMatrix @ Wishart\n",
        "Wishart = (Wishart @ Wishart.transpose())/n\n",
        "Weigs = np.real(np.linalg.eig(Wishart)[0]) #just keep the eigenvalues\n",
        "\n",
        "plt.hist(Weigs[(Weigs > 0.001) & (Weigs < 100)],bins=50,density=True)\n",
        "plt.xlabel('Eigenvalues')\n",
        "plt.ylabel('Density')\n",
        "plt.title('Empirical spectral distribution with C = Id + spikes')\n",
        "\n",
        "plt.show()\n",
        "print(\"The mean eigenvalue is {:.05f}\".format(np.mean(Weigs[Weigs > 0.001])))"
      ],
      "execution_count": null,
      "outputs": [
        {
          "output_type": "display_data",
          "data": {
            "image/png": "[encoded data removed]",
            "text/plain": [
              "<Figure size 432x288 with 1 Axes>"
            ]
          },
          "metadata": {
            "tags": [],
            "needs_background": "light"
          }
        },
        {
          "output_type": "stream",
          "text": [
            "The mean eigenvalue is 2.05552\n"
          ],
          "name": "stdout"
        }
      ]
    },
    {
      "cell_type": "markdown",
      "metadata": {
        "id": "hsYrbyAUqEY6"
      },
      "source": [
        "# **Inversion of the Stieltjes transform**\n",
        "\n",
        "Try to generate numerically the density, by creating an approximation to the Stieltjes transform."
      ]
    },
    {
      "cell_type": "markdown",
      "metadata": {
        "id": "5iaATTr_EwuZ"
      },
      "source": [
        "## **Inversion of the Stieltjes transform for MP**\n",
        "\n",
        "Stieltjes transform of Marchenko-Pastur\n",
        "\n",
        "$$m(z) = \\frac{1-r-z}{2zr} + \\frac{\\sqrt{(1+\\sqrt{r})^2-z} \\sqrt{(1-\\sqrt{r})^2-z}}{2zr}$$\n",
        "for $z \\in \\mathbb{C} \\setminus \\mathbb{R}^+$\n",
        "\n",
        "To recover the density, we invert the Stieltjes\n",
        "$$ \\lim_{\\varepsilon \\downarrow 0} \\frac{1}{\\pi} \\Im \\left ( m(x + i\\varepsilon) \\right )  = \\text{density of MP}$$\n",
        "\n",
        "In this code, we take $\\varepsilon > 0$ but close to $0$ and compute $\\Im(m(x-i\\varepsilon))$."
      ]
    },
    {
      "cell_type": "code",
      "metadata": {
        "colab": {
          "base_uri": "https://localhost:8080/",
          "height": 295
        },
        "id": "vGNmgxQKvnk6",
        "outputId": "a83b11f3-4de0-44d3-9740-be79893193b0"
      },
      "source": [
        "'Assumes you know the Stieltjes transform of the Marchenko-Pastur'\n",
        "\n",
        "xvals=np.linspace(0.001,4,num=1000)\n",
        "ivals=np.logspace(6,-5,num=100)\n",
        "mvals=np.zeros_like(xvals,dtype=np.complex)\n",
        "mvals=-1/(xvals+ivals[0]*1.0j)\n",
        "\n",
        "r=0.5\n",
        "\n",
        "n=2000\n",
        "d= int(n * r)\n",
        "\n",
        "Wishart = np.random.randn(d,n)\n",
        "Wishart = (Wishart @ Wishart.transpose())/n\n",
        "Weigs = np.real(np.linalg.eig(Wishart)[0]) #just keep the eigenvalues\n",
        "plt.hist(Weigs[Weigs > 0.001],bins=100,density=True)\n",
        "\n",
        "zs = xvals + ivals[-1]*1.0j # complex numbers: z = x + i*epsilon where epsilon is small\n",
        "\n",
        "'Formula for the Stieltjes transform of Marchenko-Pastur'\n",
        "#mvals = (1-r-zs)/(2*r*zs) + np.sqrt(((1+np.sqrt(r))**2-zs)*((1-np.sqrt(r))**2-zs))/2*r*zs \n",
        "mvals = (1-r-zs)/(2*zs*r) - np.sqrt(((1+np.sqrt(r))**2-zs))*np.sqrt(((1-np.sqrt(r))**2-zs))/(2*zs*r)\n",
        "\n",
        "'Inverting, taking only the imaginary part'\n",
        "plt.plot(xvals, np.imag(mvals)/np.pi)\n",
        "\n",
        "plt.xlabel('Eigenvalues')\n",
        "plt.ylabel('Density')\n",
        "plt.title('Inverting MP with known Stieltjes')\n",
        "\n",
        "plt.show()\n",
        "\n",
        "#sum(np.imag(mvals)*(4-0.001)/np.pi/1000) ##should be r"
      ],
      "execution_count": null,
      "outputs": [
        {
          "output_type": "display_data",
          "data": {
            "image/png": "[encoded data removed]",
            "text/plain": [
              "<Figure size 432x288 with 1 Axes>"
            ]
          },
          "metadata": {
            "tags": [],
            "needs_background": "light"
          }
        }
      ]
    },
    {
      "cell_type": "code",
      "metadata": {
        "colab": {
          "base_uri": "https://localhost:8080/",
          "height": 295
        },
        "id": "daIat8S9quOd",
        "outputId": "818c29ef-4a2d-44b1-9904-c800073868af"
      },
      "source": [
        "'Plot the empirical distribution and theoretical without knowing the Stieltjes'\n",
        "\n",
        "xvals=np.linspace(0.001,4,num=1000)\n",
        "ivals=np.logspace(4,-8,num=10000)\n",
        "mvals=np.zeros_like(xvals,dtype=np.complex)\n",
        "mvals=-1/(xvals+ivals[0]*1.0j)\n",
        "r=0.7\n",
        "\n",
        "'Generates ESD'\n",
        "n=2000\n",
        "d= int(n * r)\n",
        "Wishart = np.random.randn(n,d)\n",
        "Wishart = (Wishart @ Wishart.transpose())/n\n",
        "Weigs = np.real(np.linalg.eig(Wishart)[0]) #just keep the eigenvalues\n",
        "plt.hist(Weigs[Weigs > 0.001],bins=100,density=True)\n",
        "\n",
        "'Generates the theorectial inversion using a fixed point'\n",
        "zs = xvals + ivals[0]*1.0j\n",
        "\n",
        "#Solves the fixed point equation\n",
        "for i in ivals:\n",
        "  mvals = 1/(-xvals - i*1j + 1/(1+r*mvals))\n",
        "\n",
        "plt.plot(xvals, np.imag(mvals)/np.pi)\n",
        "\n",
        "plt.xlabel('Eigenvalues')\n",
        "plt.ylabel('Density')\n",
        "plt.title('Inverting MP using fixed point equation for Stieltjes')\n",
        "\n",
        "plt.show()"
      ],
      "execution_count": null,
      "outputs": [
        {
          "output_type": "display_data",
          "data": {
            "image/png": "[encoded data removed]",
            "text/plain": [
              "<Figure size 432x288 with 1 Axes>"
            ]
          },
          "metadata": {
            "tags": [],
            "needs_background": "light"
          }
        }
      ]
    },
    {
      "cell_type": "markdown",
      "metadata": {
        "id": "lXBymIcYSE7M"
      },
      "source": [
        "## **Inverting Stieltjes transform for covariance C with eigenvalues 1/2 of the time 1 and the other 1/2 9**\n",
        "The Stieltjes transform for general covariance matrix with ESD of C converging to $\\nu$\n",
        "\\begin{equation}%\\label{eq:1}\n",
        "(1) \\qquad\\quad m(z) = \\frac{1}{r}\\tilde{m}(z) + \\frac{1 - r}{r z}\n",
        "\\end{equation}\n",
        "\n",
        "and\n",
        "\n",
        "$$ \n",
        "(2) \\qquad\\quad\n",
        "\\tilde{m}(z) = \\biggl(-z + r \\int \\frac{t \\nu(dt)}{1+\\tilde{m}(z)t}\\biggr)^{-1}$$\n",
        "\n",
        "In our case, $\\nu = 0.5 \\cdot \\delta_1 + 0.5 \\cdot \\delta_9$ where $\\delta_{\\ell}$ is a dirac delta at $\\ell$."
      ]
    },
    {
      "cell_type": "code",
      "metadata": {
        "colab": {
          "base_uri": "https://localhost:8080/",
          "height": 266
        },
        "id": "q9bARjk-R7fZ",
        "outputId": "4aa07bfa-2f91-4634-d60d-51f54de96535"
      },
      "source": [
        "import numpy as np\n",
        "from matplotlib import pyplot as plt\n",
        "\n",
        "n=10000\n",
        "d=1000\n",
        "r=d/n\n",
        "\n",
        "Wishart = np.random.randn(d,n)\n",
        "CMatrix = np.diagflat(np.random.binomial(1,0.5,size=(d,1))*8 + 1)\n",
        "sqrtCMatrix = np.sqrt(CMatrix)\n",
        "Wishart = sqrtCMatrix @ Wishart\n",
        "Wishart = (Wishart @ Wishart.transpose())/n\n",
        "Weigs = np.real(np.linalg.eig(Wishart)[0]) #just keep the eigenvalues\n",
        "plt.hist(Weigs[(Weigs > 0.001) & (Weigs < 30)],bins=50,density=True)\n",
        "\n",
        "xvals=np.linspace(0.001,30,num=1000)\n",
        "ivals=np.logspace(4,-8,num=10000)\n",
        "mvals=np.zeros_like(xvals,dtype=np.complex)\n",
        "mvals=-1/(xvals+ivals[0]*1.0j)\n",
        "\n",
        "zs = xvals + ivals[0]*1.0j\n",
        "\n",
        "'nu = 50% probability of being 9 and 50% probability of being 1'\n",
        "for i in ivals:  \n",
        "  mvals = 1/(-xvals - i*1j + r*(  0.5*1/(1+mvals) + 0.5*9/(1+9*mvals) ))\n",
        "\n",
        "mvals = 1/r * mvals + (1-r) / ( r*zs )\n",
        "\n",
        "plt.plot(xvals, np.imag(mvals)/np.pi)\n",
        "\n",
        "plt.show()"
      ],
      "execution_count": null,
      "outputs": [
        {
          "output_type": "display_data",
          "data": {
            "image/png": "[encoded data removed]",
            "text/plain": [
              "<Figure size 432x288 with 1 Axes>"
            ]
          },
          "metadata": {
            "tags": [],
            "needs_background": "light"
          }
        }
      ]
    }
  ]
}