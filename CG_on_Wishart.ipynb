{
  "nbformat": 4,
  "nbformat_minor": 0,
  "metadata": {
    "colab": {
      "name": "CG_on_Wishart.ipynb",
      "provenance": [],
      "include_colab_link": true
    },
    "kernelspec": {
      "name": "python3",
      "display_name": "Python 3"
    },
    "language_info": {
      "name": "python"
    }
  },
  "cells": [
    {
      "cell_type": "markdown",
      "metadata": {
        "id": "view-in-github",
        "colab_type": "text"
      },
      "source": [
        "<a href=\"https://colab.research.google.com/github/RYU-MCFLY/back-future/blob/main/CG_on_Wishart.ipynb\" target=\"_parent\"><img src=\"https://colab.research.google.com/assets/colab-badge.svg\" alt=\"Open In Colab\"/></a>"
      ]
    },
    {
      "cell_type": "code",
      "metadata": {
        "id": "fdNQBunMBqYJ"
      },
      "source": [
        "import numpy as np\n",
        "from matplotlib import pyplot as plt\n",
        "from scipy import linalg as la\n",
        "\n",
        "def CG(A,b,eps):\n",
        "  r = b\n",
        "  p = r\n",
        "  x = 0*b\n",
        "  err = 1\n",
        "  k = 0\n",
        "  while err > eps:\n",
        "    k += 1\n",
        "    v = A@p\n",
        "    rn = np.dot(r,r)\n",
        "    err = np.sqrt(rn)\n",
        "    a = rn/np.dot(r,v)\n",
        "    x = x + a*p\n",
        "    r = r - a*v\n",
        "    b = -np.dot(r,r)/rn\n",
        "    p = r - b*p\n",
        "  return k-1\n",
        "\n",
        "def CGerr(A,b,K):\n",
        "  r = b\n",
        "  p = r\n",
        "  x = 0*b\n",
        "  err = 1\n",
        "  k = 0\n",
        "  while k < K + 1:\n",
        "    k += 1\n",
        "    v = A@p\n",
        "    rn = np.dot(r,r)\n",
        "    err = np.sqrt(rn)\n",
        "    a = rn/np.dot(r,v)\n",
        "    x = x + a*p\n",
        "    r = r - a*v\n",
        "    b = -np.dot(r,r)/rn\n",
        "    p = r - b*p\n",
        "  return err"
      ],
      "execution_count": null,
      "outputs": []
    },
    {
      "cell_type": "markdown",
      "metadata": {
        "id": "xeB21YQbH1PQ"
      },
      "source": [
        "## Well-conditioned case with $r = \\frac{d}{n} = 2$."
      ]
    },
    {
      "cell_type": "code",
      "metadata": {
        "colab": {
          "base_uri": "https://localhost:8080/",
          "height": 295
        },
        "id": "2o-wS8CvB36o",
        "outputId": "69702b0a-f5c4-47cd-86d8-2bb1bf080685"
      },
      "source": [
        "n=100\n",
        "d=2*n\n",
        "r=d/n\n",
        "\n",
        "num_samps = 500\n",
        "samps = np.zeros(num_samps)\n",
        "for j in range(num_samps):\n",
        "  A = np.random.randn(d,n)/np.sqrt(d)\n",
        "  W = A.transpose() @ A\n",
        "  a = np.random.randn(n)\n",
        "  a = a/la.norm(a)\n",
        "  samps[j] = CG(W,a,1e-4)\n",
        "\n",
        "plt.hist(samps,bins=10,density=True)\n",
        "plt.xlabel('Halting time')\n",
        "plt.ylabel('Density')\n",
        "plt.title('CG with d = %i and n = %i' % (d,n))\n",
        "\n",
        "plt.show()"
      ],
      "execution_count": null,
      "outputs": [
        {
          "output_type": "display_data",
          "data": {
            "image/png": "[encoded data removed]",
            "text/plain": [
              "<Figure size 432x288 with 1 Axes>"
            ]
          },
          "metadata": {
            "tags": [],
            "needs_background": "light"
          }
        }
      ]
    },
    {
      "cell_type": "code",
      "metadata": {
        "colab": {
          "base_uri": "https://localhost:8080/",
          "height": 295
        },
        "id": "SnDrbbdvDZPF",
        "outputId": "d133b476-fc2a-491a-e977-adfbee349fc7"
      },
      "source": [
        "n=400\n",
        "d=2*n\n",
        "r=d/n\n",
        "\n",
        "num_samps = 500\n",
        "samps = np.zeros(num_samps)\n",
        "for j in range(num_samps):\n",
        "  A = np.random.randn(d,n)/np.sqrt(d)\n",
        "  W = A.transpose() @ A\n",
        "  a = np.random.randn(n)\n",
        "  a = a/la.norm(a)\n",
        "  samps[j] = CG(W,a,1e-4)\n",
        "\n",
        "plt.hist(samps,bins=range(24,32),density=True)\n",
        "plt.xlabel('Halting time')\n",
        "plt.ylabel('Density')\n",
        "plt.title('CG with d = %i and n = %i' % (d,n))\n",
        "\n",
        "plt.show()"
      ],
      "execution_count": null,
      "outputs": [
        {
          "output_type": "display_data",
          "data": {
            "image/png": "[encoded data removed]",
            "text/plain": [
              "<Figure size 432x288 with 1 Axes>"
            ]
          },
          "metadata": {
            "tags": [],
            "needs_background": "light"
          }
        }
      ]
    },
    {
      "cell_type": "markdown",
      "metadata": {
        "id": "LvTJyl-MIoy4"
      },
      "source": [
        "## Ill-conditioned case $r = 1$"
      ]
    },
    {
      "cell_type": "code",
      "metadata": {
        "colab": {
          "base_uri": "https://localhost:8080/",
          "height": 295
        },
        "id": "wRUH91WIDxTw",
        "outputId": "b04442b5-70d8-4f65-da53-ee024e1b852a"
      },
      "source": [
        "n=400\n",
        "d=n\n",
        "r=d/n\n",
        "\n",
        "num_samps = 500\n",
        "samps = np.zeros(num_samps)\n",
        "for j in range(num_samps):\n",
        "  A = np.random.randn(d,n)/np.sqrt(d)\n",
        "  W = A.transpose() @ A\n",
        "  a = np.random.randn(n)\n",
        "  a = a/la.norm(a)\n",
        "  samps[j] = CG(W,a,1e-4)\n",
        "\n",
        "plt.hist(samps,bins=10,density=True)\n",
        "plt.xlabel('Halting time')\n",
        "plt.ylabel('Density')\n",
        "plt.title('CG with d = %i and n = %i' % (d,n))\n",
        "\n",
        "plt.show()"
      ],
      "execution_count": null,
      "outputs": [
        {
          "output_type": "display_data",
          "data": {
            "image/png": "[encoded data removed]",
            "text/plain": [
              "<Figure size 432x288 with 1 Axes>"
            ]
          },
          "metadata": {
            "tags": [],
            "needs_background": "light"
          }
        }
      ]
    },
    {
      "cell_type": "code",
      "metadata": {
        "colab": {
          "base_uri": "https://localhost:8080/",
          "height": 295
        },
        "id": "SuX1eMvyFoUl",
        "outputId": "3d55ffe4-061e-4675-d719-67cef27e975d"
      },
      "source": [
        "n=400\n",
        "d=n + int(np.sqrt(n))\n",
        "r=d/n\n",
        "\n",
        "num_samps = 5000\n",
        "samps = np.zeros(num_samps)\n",
        "for j in range(num_samps):\n",
        "  A = np.random.randn(d,n)/np.sqrt(d)\n",
        "  W = A.transpose() @ A\n",
        "  a = np.random.randn(n)\n",
        "  a = a/la.norm(a)\n",
        "  samps[j] = CG(W,a,1e-4)\n",
        "\n",
        "plt.hist(samps,bins=20,density=True)\n",
        "plt.xlabel('Halting time')\n",
        "plt.ylabel('Density')\n",
        "plt.title('CG with d = %i and n = %i' % (d,n))\n",
        "\n",
        "plt.show()"
      ],
      "execution_count": null,
      "outputs": [
        {
          "output_type": "display_data",
          "data": {
            "image/png": "[encoded data removed]",
            "text/plain": [
              "<Figure size 432x288 with 1 Axes>"
            ]
          },
          "metadata": {
            "tags": [],
            "needs_background": "light"
          }
        }
      ]
    },
    {
      "cell_type": "code",
      "metadata": {
        "colab": {
          "base_uri": "https://localhost:8080/",
          "height": 295
        },
        "id": "RL94sQx-gy_e",
        "outputId": "0b31c725-f617-4a94-c08a-9e17c399562c"
      },
      "source": [
        "n=400\n",
        "d=n + int(n**(.7))\n",
        "r=d/n\n",
        "\n",
        "num_samps = 5000\n",
        "samps = np.zeros(num_samps)\n",
        "for j in range(num_samps):\n",
        "  A = np.random.randn(d,n)/np.sqrt(d)\n",
        "  W = A.transpose() @ A\n",
        "  a = np.random.randn(n)\n",
        "  a = a/la.norm(a)\n",
        "  samps[j] = CG(W,a,1e-4)\n",
        "\n",
        "plt.hist(samps,bins=20,density=True)\n",
        "plt.xlabel('Halting time')\n",
        "plt.ylabel('Density')\n",
        "plt.title('CG with d = %i and n = %i' % (d,n))\n",
        "\n",
        "plt.show()"
      ],
      "execution_count": null,
      "outputs": [
        {
          "output_type": "display_data",
          "data": {
            "image/png": "[encoded data removed]",
            "text/plain": [
              "<Figure size 432x288 with 1 Axes>"
            ]
          },
          "metadata": {
            "tags": [],
            "needs_background": "light"
          }
        }
      ]
    },
    {
      "cell_type": "code",
      "metadata": {
        "colab": {
          "base_uri": "https://localhost:8080/",
          "height": 295
        },
        "id": "Zc4I9TXokuRB",
        "outputId": "4f4c5866-833e-4b48-e176-82b937dcd2ff"
      },
      "source": [
        "n=400\n",
        "d=n + int(n**(.8))\n",
        "r=d/n\n",
        "\n",
        "num_samps = 5000\n",
        "samps = np.zeros(num_samps)\n",
        "for j in range(num_samps):\n",
        "  A = np.random.randn(d,n)/np.sqrt(d)\n",
        "  W = A.transpose() @ A\n",
        "  a = np.random.randn(n)\n",
        "  a = a/la.norm(a)\n",
        "  samps[j] = CG(W,a,1e-5)\n",
        "\n",
        "plt.hist(samps,bins=20,density=True)\n",
        "plt.xlabel('Halting time')\n",
        "plt.ylabel('Density')\n",
        "plt.title('CG with d = %i and n = %i' % (d,n))\n",
        "\n",
        "plt.show()"
      ],
      "execution_count": null,
      "outputs": [
        {
          "output_type": "display_data",
          "data": {
            "image/png": "[encoded data removed]",
            "text/plain": [
              "<Figure size 432x288 with 1 Axes>"
            ]
          },
          "metadata": {
            "tags": [],
            "needs_background": "light"
          }
        }
      ]
    },
    {
      "cell_type": "code",
      "metadata": {
        "colab": {
          "base_uri": "https://localhost:8080/",
          "height": 295
        },
        "id": "V5dp-dtOldp7",
        "outputId": "9306c99b-9e0c-4ce0-dad8-f0e0c528cfd2"
      },
      "source": [
        "n= 2000\n",
        "d= n + int(n**(.8))\n",
        "r=d/n\n",
        "\n",
        "num_samps = 500\n",
        "samps = np.zeros(num_samps)\n",
        "for j in range(num_samps):\n",
        "  A = np.random.randn(d,n)/np.sqrt(d)\n",
        "  W = A.transpose() @ A\n",
        "  a = np.random.randn(n)\n",
        "  a = a/la.norm(a)\n",
        "  samps[j] = CG(W,a,1e-4)\n",
        "\n",
        "plt.hist(samps,bins=20,density=True)\n",
        "plt.xlabel('Halting time')\n",
        "plt.ylabel('Density')\n",
        "plt.title('CG with d = %i and n = %i' % (d,n))\n",
        "\n",
        "plt.show()"
      ],
      "execution_count": null,
      "outputs": [
        {
          "output_type": "display_data",
          "data": {
            "image/png": "[encoded data removed]",
            "text/plain": [
              "<Figure size 432x288 with 1 Axes>"
            ]
          },
          "metadata": {
            "tags": [],
            "needs_background": "light"
          }
        }
      ]
    },
    {
      "cell_type": "code",
      "metadata": {
        "colab": {
          "base_uri": "https://localhost:8080/",
          "height": 295
        },
        "id": "q2h_GxkRl_1y",
        "outputId": "70ddb372-4f9f-4d5c-a415-8ae3015abe7f"
      },
      "source": [
        "n=800\n",
        "d=2*n\n",
        "r=d/n\n",
        "\n",
        "num_samps = 500\n",
        "samps = np.zeros(num_samps)\n",
        "for j in range(num_samps):\n",
        "  A = np.random.randn(d,n)/np.sqrt(d)\n",
        "  W = A.transpose() @ A\n",
        "  a = np.random.randn(n)\n",
        "  a = a/la.norm(a)\n",
        "  samps[j] = CG(W,a,1e-4)\n",
        "\n",
        "plt.hist(samps,bins=range(24,32),density=True)\n",
        "plt.xlabel('Halting time')\n",
        "plt.ylabel('Density')\n",
        "plt.title('CG with d = %i and n = %i' % (d,n))\n",
        "\n",
        "plt.show()"
      ],
      "execution_count": null,
      "outputs": [
        {
          "output_type": "display_data",
          "data": {
            "image/png": "[encoded data removed]",
            "text/plain": [
              "<Figure size 432x288 with 1 Axes>"
            ]
          },
          "metadata": {
            "tags": [],
            "needs_background": "light"
          }
        }
      ]
    },
    {
      "cell_type": "code",
      "metadata": {
        "colab": {
          "base_uri": "https://localhost:8080/",
          "height": 295
        },
        "id": "xHzkF2lMSuNz",
        "outputId": "003dcf5a-4aab-40cd-a258-4d3a405e098d"
      },
      "source": [
        "n=1200\n",
        "d=2*n\n",
        "r=d/n\n",
        "\n",
        "num_samps = 500\n",
        "samps = np.zeros(num_samps)\n",
        "for j in range(num_samps):\n",
        "  A = np.random.randn(d,n)/np.sqrt(d)\n",
        "  W = A.transpose() @ A\n",
        "  a = np.random.randn(n)\n",
        "  a = a/la.norm(a)\n",
        "  samps[j] = CG(W,a,1e-4)\n",
        "\n",
        "plt.hist(samps,bins=range(24,32),density=True)\n",
        "plt.xlabel('Halting time')\n",
        "plt.ylabel('Density')\n",
        "plt.title('CG with d = %i and n = %i' % (d,n))\n",
        "\n",
        "plt.show()"
      ],
      "execution_count": null,
      "outputs": [
        {
          "output_type": "display_data",
          "data": {
            "image/png": "[encoded data removed]",
            "text/plain": [
              "<Figure size 432x288 with 1 Axes>"
            ]
          },
          "metadata": {
            "tags": [],
            "needs_background": "light"
          }
        }
      ]
    },
    {
      "cell_type": "code",
      "metadata": {
        "colab": {
          "base_uri": "https://localhost:8080/",
          "height": 295
        },
        "id": "enSlrxsISw8p",
        "outputId": "25378af6-22ea-494f-95d0-64bf8fa0d2e0"
      },
      "source": [
        "n=1600\n",
        "d=2*n\n",
        "r=d/n\n",
        "\n",
        "num_samps = 500\n",
        "samps = np.zeros(num_samps)\n",
        "for j in range(num_samps):\n",
        "  A = np.random.randn(d,n)/np.sqrt(d)\n",
        "  W = A.transpose() @ A\n",
        "  a = np.random.randn(n)\n",
        "  a = a/la.norm(a)\n",
        "  samps[j] = CG(W,a,1e-4)\n",
        "\n",
        "plt.hist(samps,bins=range(24,32),density=True)\n",
        "plt.xlabel('Halting time')\n",
        "plt.ylabel('Density')\n",
        "plt.title('CG with d = %i and n = %i' % (d,n))\n",
        "\n",
        "plt.show()"
      ],
      "execution_count": null,
      "outputs": [
        {
          "output_type": "display_data",
          "data": {
            "image/png": "[encoded data removed]",
            "text/plain": [
              "<Figure size 432x288 with 1 Axes>"
            ]
          },
          "metadata": {
            "tags": [],
            "needs_background": "light"
          }
        }
      ]
    },
    {
      "cell_type": "code",
      "metadata": {
        "colab": {
          "base_uri": "https://localhost:8080/"
        },
        "id": "tC6BCnaTTROA",
        "outputId": "d2f2ad7f-12e2-4c05-d3b2-0e0cafe3f31a"
      },
      "source": [
        "n=1600\n",
        "d=2*n\n",
        "r=d/n\n",
        "A = np.random.randn(d,n)/np.sqrt(d)\n",
        "W = A.transpose() @ A\n",
        "a = np.random.randn(n)\n",
        "a = a/la.norm(a)\n",
        "CGerr(W,a,1)"
      ],
      "execution_count": null,
      "outputs": [
        {
          "output_type": "execute_result",
          "data": {
            "text/plain": [
              "0.723116217074944"
            ]
          },
          "metadata": {
            "tags": []
          },
          "execution_count": 31
        }
      ]
    },
    {
      "cell_type": "code",
      "metadata": {
        "colab": {
          "base_uri": "https://localhost:8080/"
        },
        "id": "rC1CFIyYXL_S",
        "outputId": "5bc86539-ed83-4f2a-ce66-cb4d2d7fc44e"
      },
      "source": [
        "np.sqrt(.5)"
      ],
      "execution_count": null,
      "outputs": [
        {
          "output_type": "execute_result",
          "data": {
            "text/plain": [
              "0.7071067811865476"
            ]
          },
          "metadata": {
            "tags": []
          },
          "execution_count": 26
        }
      ]
    },
    {
      "cell_type": "code",
      "metadata": {
        "id": "6rq295EWXqR9"
      },
      "source": [
        ""
      ],
      "execution_count": null,
      "outputs": []
    }
  ]
}